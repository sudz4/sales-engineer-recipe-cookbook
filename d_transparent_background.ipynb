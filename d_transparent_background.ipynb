{
 "cells": [
  {
   "cell_type": "code",
   "execution_count": null,
   "metadata": {},
   "outputs": [],
   "source": [
    "from PIL import Image"
   ]
  },
  {
   "cell_type": "code",
   "execution_count": null,
   "metadata": {},
   "outputs": [],
   "source": [
    "# open the image\n",
    "im = Image.open('iss_2.png')\n",
    "\n",
    "# make the background transparent\n",
    "im = im.convert(\"RGBA\")\n",
    "pixdata = im.load()\n",
    "\n",
    "# loop through all pixels\n",
    "for y in range(im.size[1]):\n",
    "    for x in range(im.size[0]):\n",
    "        if pixdata[x, y] == (255, 255, 255, 255): # if the pixel is white (background color)\n",
    "            pixdata[x, y] = (255, 255, 255, 0) # set the alpha channel to 0\n",
    "\n",
    "# save the image with a transparent background\n",
    "im.save(\"iss_2_trans.png\", \"PNG\")"
   ]
  }
 ],
 "metadata": {
  "language_info": {
   "name": "python"
  },
  "orig_nbformat": 4
 },
 "nbformat": 4,
 "nbformat_minor": 2
}
