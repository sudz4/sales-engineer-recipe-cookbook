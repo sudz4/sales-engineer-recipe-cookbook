{
 "cells": [
  {
   "attachments": {},
   "cell_type": "markdown",
   "metadata": {},
   "source": [
    "| # |    Python SE Recipe    |  Docs  |\n",
    "| --| ---------------------- | ----------- |\n",
    "| 1 |    .pdf -> .txt    | Extract text from a pdf file |"
   ]
  },
  {
   "cell_type": "code",
   "execution_count": 1,
   "metadata": {},
   "outputs": [],
   "source": [
    "# import libs\n",
    "import os\n",
    "from io import StringIO\n",
    "from pdfminer.pdfinterp import PDFResourceManager, PDFPageInterpreter\n",
    "from pdfminer.converter import TextConverter\n",
    "from pdfminer.layout import LAParams\n",
    "from pdfminer.pdfpage import PDFPage"
   ]
  },
  {
   "cell_type": "code",
   "execution_count": 2,
   "metadata": {},
   "outputs": [],
   "source": [
    "# import user defined functions (udfs)\n",
    "from a_udf import pdf_to_txt"
   ]
  },
  {
   "cell_type": "code",
   "execution_count": 3,
   "metadata": {},
   "outputs": [],
   "source": [
    "# action -> convert a pdf to txt\n",
    "if __name__ == '__main__':\n",
    "    # set file path\n",
    "    file_path = 'a_practice_exam_data_engineer_associate.pdf'\n",
    "    # convert pdf to txt\n",
    "    text = pdf_to_txt(file_path=file_path) # this is extra but added to remember the argument\n",
    "    # save to text file\n",
    "    with open('a_practice_questions.txt', 'w') as f: # writes the text to the .txt file\n",
    "        f.write(text)"
   ]
  },
  {
   "attachments": {},
   "cell_type": "markdown",
   "metadata": {},
   "source": [
    "| END OF PROGRAM | .pdf -> .txt |\n",
    "| ----------- | ----------- |"
   ]
  },
  {
   "cell_type": "code",
   "execution_count": 7,
   "metadata": {},
   "outputs": [],
   "source": [
    "# # set file path\n",
    "# file_path = '0_practice_exam_data_engineer_associate.pdf'\n",
    "\n",
    "# # create the \"reader\"\n",
    "# pdf = PdfReader(file_path)\n",
    "\n",
    "# # opening a text file instantiates a new document\n",
    "# with open('0_practice_questions.txt', 'w') as f:\n",
    "#     for page_num in range(len(pdf.pages)):\n",
    "#         print('Page: {0}'.format(page_num))\n",
    "#         pageObj = pdf.pages[page_num]\n",
    "#         try:\n",
    "#             txt = pageObj.extractText()\n",
    "#             print(''.center(100, '-'))\n",
    "#         except:\n",
    "#             # handle the exception\n",
    "#             print(\"Error extracting text from page {0}\".format(page_num))\n",
    "#         else:\n",
    "#             f.write('Page {0}\\n'.format(page_num+1))\n",
    "#             f.write(''.center(100, '-'))\n",
    "#             f.write(txt)\n"
   ]
  },
  {
   "cell_type": "code",
   "execution_count": 8,
   "metadata": {},
   "outputs": [],
   "source": [
    "# from PyPDF2 import PdfReader, PdfFileWriter\n",
    "\n",
    "# file_path = '0_practice_exam_data_engineer_associate.pdf'\n",
    "\n",
    "# # create the \"reader\"\n",
    "# pdf = PdfReader(file_path)\n",
    "\n",
    "# # opening a text file instantiates a new document\n",
    "# with open('0_practice_questions.txt', 'w') as f:\n",
    "#     for page_num in range(len(pdf.pages)):\n",
    "#         print('Page: {0}'.format(page_num))\n",
    "#         pageObj = pdf.pages[page_num]\n",
    "#         try:\n",
    "#             txt = pageObj.extractText()\n",
    "#             print(''.center(100, '-'))\n",
    "#         except:\n",
    "#             pass\n",
    "#         else:\n",
    "#             f.write('Page {0}\\n'.format(page_num+1))\n",
    "#             f.write(''.center(100, '-'))\n",
    "#             f.write(txt)\n",
    "#     f.close()"
   ]
  }
 ],
 "metadata": {
  "kernelspec": {
   "display_name": "SERecipe_venv",
   "language": "python",
   "name": "python3"
  },
  "language_info": {
   "codemirror_mode": {
    "name": "ipython",
    "version": 3
   },
   "file_extension": ".py",
   "mimetype": "text/x-python",
   "name": "python",
   "nbconvert_exporter": "python",
   "pygments_lexer": "ipython3",
   "version": "3.11.1 (v3.11.1:a7a450f84a, Dec  6 2022, 15:24:06) [Clang 13.0.0 (clang-1300.0.29.30)]"
  },
  "orig_nbformat": 4,
  "vscode": {
   "interpreter": {
    "hash": "7a696f88e3cfa17ad0c430667355aa6221d9f3eb9d6515afe82a7a22780b3f38"
   }
  }
 },
 "nbformat": 4,
 "nbformat_minor": 2
}
