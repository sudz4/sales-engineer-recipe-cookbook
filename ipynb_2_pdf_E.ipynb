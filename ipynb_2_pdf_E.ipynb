{
 "cells": [
  {
   "cell_type": "code",
   "execution_count": 5,
   "metadata": {},
   "outputs": [],
   "source": [
    "# libraries\n",
    "import os\n",
    "import sys\n",
    "import nbformat\n",
    "from nbconvert import PDFExporter\n",
    "\n",
    "# files\n",
    "from ipynb_2_pdf import convert_ipynb_to_pdf"
   ]
  },
  {
   "cell_type": "code",
   "execution_count": 7,
   "metadata": {},
   "outputs": [
    {
     "ename": "UnboundLocalError",
     "evalue": "cannot access local variable 'PDFExporter' where it is not associated with a value",
     "output_type": "error",
     "traceback": [
      "\u001b[0;31m---------------------------------------------------------------------------\u001b[0m",
      "\u001b[0;31mUnboundLocalError\u001b[0m                         Traceback (most recent call last)",
      "Cell \u001b[0;32mIn[7], line 1\u001b[0m\n\u001b[0;32m----> 1\u001b[0m convert_ipynb_to_pdf(\u001b[39m'\u001b[39;49m\u001b[39mipynb_2_pdf_TEST.ipynb\u001b[39;49m\u001b[39m'\u001b[39;49m)\n",
      "File \u001b[0;32m~/Desktop/python_SERecipes/ipynb_2_pdf.py:15\u001b[0m, in \u001b[0;36mconvert_ipynb_to_pdf\u001b[0;34m(ipynb_filename)\u001b[0m\n\u001b[1;32m     12\u001b[0m     nb \u001b[39m=\u001b[39m nbformat\u001b[39m.\u001b[39mread(f, as_version\u001b[39m=\u001b[39m\u001b[39m4\u001b[39m) \u001b[39m# version 4 is the jupyter notebook version. most widely used since 2015\u001b[39;00m\n\u001b[1;32m     14\u001b[0m \u001b[39m# Configure the PDFExporter\u001b[39;00m\n\u001b[0;32m---> 15\u001b[0m pdf_exporter \u001b[39m=\u001b[39m PDFExporter()\n\u001b[1;32m     16\u001b[0m pdf_exporter\u001b[39m.\u001b[39mexclude_input \u001b[39m=\u001b[39m \u001b[39mTrue\u001b[39;00m\n\u001b[1;32m     17\u001b[0m pdf_exporter\u001b[39m.\u001b[39mexclude_output_prompt \u001b[39m=\u001b[39m \u001b[39mTrue\u001b[39;00m\n",
      "\u001b[0;31mUnboundLocalError\u001b[0m: cannot access local variable 'PDFExporter' where it is not associated with a value"
     ]
    }
   ],
   "source": [
    "convert_ipynb_to_pdf('ipynb_2_pdf_TEST.ipynb')"
   ]
  },
  {
   "cell_type": "code",
   "execution_count": null,
   "metadata": {},
   "outputs": [],
   "source": []
  }
 ],
 "metadata": {
  "kernelspec": {
   "display_name": "SERecipe_venv",
   "language": "python",
   "name": "python3"
  },
  "language_info": {
   "codemirror_mode": {
    "name": "ipython",
    "version": 3
   },
   "file_extension": ".py",
   "mimetype": "text/x-python",
   "name": "python",
   "nbconvert_exporter": "python",
   "pygments_lexer": "ipython3",
   "version": "3.11.1"
  },
  "orig_nbformat": 4
 },
 "nbformat": 4,
 "nbformat_minor": 2
}
