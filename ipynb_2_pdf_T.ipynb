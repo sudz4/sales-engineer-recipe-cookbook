{
 "cells": [
  {
   "attachments": {},
   "cell_type": "markdown",
   "metadata": {},
   "source": [
    "| # |   This is a Test    |  Test  |\n",
    "| --| ---------------------- | ----------- |\n",
    "| 1 |    .ipynb -> .pdf   | Convert this .ipynb file to pdf |"
   ]
  },
  {
   "cell_type": "code",
   "execution_count": 1,
   "metadata": {},
   "outputs": [],
   "source": [
    "# libraries\n",
    "import requests"
   ]
  },
  {
   "cell_type": "code",
   "execution_count": 2,
   "metadata": {},
   "outputs": [
    {
     "name": "stdout",
     "output_type": "stream",
     "text": [
      "Current ISS Location:\n",
      "Latitude: 40.3944\n",
      "Longitude: 64.7173\n"
     ]
    }
   ],
   "source": [
    "\"\"\"Get the current location of the ISS\"\"\"\n",
    "# send a GET request to the ISS API endpoint\n",
    "iss_loc_response = requests.get(\"http://api.open-notify.org/iss-now.json\")\n",
    "iss_loc_data = iss_loc_response.json()\n",
    "# print the API parameters\n",
    "# print(iss_loc_data)\n",
    "\n",
    "# extract the latitude and longitude for the current location of the ISS\n",
    "iss_lat = float(iss_loc_data['iss_position']['latitude']) # also, converts lat string to float\n",
    "iss_long = float(iss_loc_data['iss_position']['longitude']) # also, converts long string to float\n",
    "\n",
    "# print the current latitude and longitude for the ISS\n",
    "print(\"Current ISS Location:\")\n",
    "print(f\"Latitude: {iss_lat}\")\n",
    "print(f\"Longitude: {iss_long}\")"
   ]
  }
 ],
 "metadata": {
  "kernelspec": {
   "display_name": "SERecipe_venv",
   "language": "python",
   "name": "python3"
  },
  "language_info": {
   "codemirror_mode": {
    "name": "ipython",
    "version": 3
   },
   "file_extension": ".py",
   "mimetype": "text/x-python",
   "name": "python",
   "nbconvert_exporter": "python",
   "pygments_lexer": "ipython3",
   "version": "3.11.1"
  },
  "orig_nbformat": 4
 },
 "nbformat": 4,
 "nbformat_minor": 2
}
