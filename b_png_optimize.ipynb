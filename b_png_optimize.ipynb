{
 "cells": [
  {
   "attachments": {},
   "cell_type": "markdown",
   "metadata": {},
   "source": [
    "| abc | Python SE Recipe|Docs|\n",
    "| --- | ---------------------- | -------------------------|\n",
    "| b   | .png optimization      | for quality              |\n",
    "| b   | .png optimization      | for compression, storage |\n",
    "\n",
    "install:\n",
    "* pip3 install pillow"
   ]
  },
  {
   "cell_type": "code",
   "execution_count": 17,
   "metadata": {},
   "outputs": [],
   "source": [
    "# using pillow\n",
    "from PIL import Image\n",
    "image_file = \"b_wsb_guy.png\"\n",
    "image = Image.open(image_file)\n",
    "\n",
    "image.save('b_wsb_optimized.png')"
   ]
  },
  {
   "attachments": {},
   "cell_type": "markdown",
   "metadata": {},
   "source": [
    "Now, a different type of optimization\n",
    "\n",
    "You can use the PyPNG library, which is a pure Python library for reading and writing PNG files. PyPNG provides a low-level interface to the PNG format, and allows you to control various optimization options such as filtering and compression. "
   ]
  },
  {
   "cell_type": "code",
   "execution_count": null,
   "metadata": {},
   "outputs": [],
   "source": [
    "# # using png\n",
    "# import png\n",
    "\n",
    "# with open('b_wsb_guy.png', 'rb') as f:\n",
    "#     reader = png.Reader(f)\n",
    "#     width, height, pixels, metadata = reader.read()\n",
    "\n",
    "# # Set the optimization options\n",
    "# # metadata['optimize'] = True\n",
    "# metadata['compression'] = 9\n",
    "\n",
    "# # Write the optimized image\n",
    "# with open('b_optimized_2.png', 'wb') as f:\n",
    "#     writer = png.Writer(**metadata)\n",
    "#     writer.write(f, pixels)"
   ]
  },
  {
   "cell_type": "code",
   "execution_count": null,
   "metadata": {},
   "outputs": [],
   "source": [
    "# # using png\n",
    "# import png\n",
    "\n",
    "# with open('b_wsb_guy.png', 'rb') as f: # binary read mode\n",
    "#     reader = png.Reader(f)\n",
    "#     width, height, pixels, metadata = reader.read()\n",
    "\n",
    "# metadata['compression'] = 9\n",
    "\n",
    "# with open('b_wsb_guy_2.png', 'wb') as f: # binary write mode\n",
    "#     writer = png.Writer(width=width, height=height, **metadata)\n",
    "#     writer.write(f, pixels)"
   ]
  },
  {
   "cell_type": "code",
   "execution_count": null,
   "metadata": {},
   "outputs": [],
   "source": []
  }
 ],
 "metadata": {
  "kernelspec": {
   "display_name": "SERecipe_venv",
   "language": "python",
   "name": "python3"
  },
  "language_info": {
   "codemirror_mode": {
    "name": "ipython",
    "version": 3
   },
   "file_extension": ".py",
   "mimetype": "text/x-python",
   "name": "python",
   "nbconvert_exporter": "python",
   "pygments_lexer": "ipython3",
   "version": "3.11.1 (v3.11.1:a7a450f84a, Dec  6 2022, 15:24:06) [Clang 13.0.0 (clang-1300.0.29.30)]"
  },
  "orig_nbformat": 4,
  "vscode": {
   "interpreter": {
    "hash": "7a696f88e3cfa17ad0c430667355aa6221d9f3eb9d6515afe82a7a22780b3f38"
   }
  }
 },
 "nbformat": 4,
 "nbformat_minor": 2
}
